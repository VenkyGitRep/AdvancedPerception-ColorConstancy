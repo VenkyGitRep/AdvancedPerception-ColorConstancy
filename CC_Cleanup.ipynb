{
  "nbformat": 4,
  "nbformat_minor": 0,
  "metadata": {
    "colab": {
      "provenance": [],
      "machine_shape": "hm",
      "gpuType": "A100",
      "mount_file_id": "1mmsVioU5njKbJNruoa_ecvhhg_GHf8-2",
      "authorship_tag": "ABX9TyOfqigk2YoiP53uARpsuG+m",
      "include_colab_link": true
    },
    "kernelspec": {
      "name": "python3",
      "display_name": "Python 3"
    },
    "language_info": {
      "name": "python"
    },
    "accelerator": "GPU"
  },
  "cells": [
    {
      "cell_type": "markdown",
      "metadata": {
        "id": "view-in-github",
        "colab_type": "text"
      },
      "source": [
        "<a href=\"https://colab.research.google.com/github/VenkyGitRep/AdvancedPerception-ColorConstancy/blob/main/CC_Cleanup.ipynb\" target=\"_parent\"><img src=\"https://colab.research.google.com/assets/colab-badge.svg\" alt=\"Open In Colab\"/></a>"
      ]
    },
    {
      "cell_type": "code",
      "source": [
        "import cv2\n",
        "import numpy as np\n",
        "import os"
      ],
      "metadata": {
        "id": "UNQfeVJ4Qgg0"
      },
      "execution_count": 16,
      "outputs": []
    },
    {
      "cell_type": "code",
      "execution_count": 17,
      "metadata": {
        "id": "xo-brLuDNMIO"
      },
      "outputs": [],
      "source": [
        "#Linearises image, returns an image with values in [-1,1].\n",
        "#Black level is 2048(as in IPG page), saturation level 15k\n",
        "'''\n",
        "Image: /content/drive/MyDrive/ColorConstancy/RawImages/CR2_1_100/3.CR2\n",
        "Black Level per channel: [2048, 2049, 2049, 2049]\n",
        "Saturation Level: 15831\n",
        "'''\n",
        "#Linearize images\n",
        "def linearize(img, black_lvl=2048, saturation_lvl=15831):\n",
        "\n",
        "    linearized_img = np.clip((img - black_lvl)/(saturation_lvl - black_lvl), 0, 1)\n",
        "    scaled_img = (linearized_img * 2) - 1\n",
        "    return scaled_img\n"
      ]
    },
    {
      "cell_type": "markdown",
      "source": [
        "**Resize all images to fit MobileNet input size of (224,224,3)**"
      ],
      "metadata": {
        "id": "nYldANJ3myx2"
      }
    },
    {
      "cell_type": "code",
      "source": [
        "def preprocessImage(img):\n",
        "  return cv2.resize(linearize(png_img), (224, 224), interpolation=cv2.INTER_LINEAR)\n"
      ],
      "metadata": {
        "id": "9guRvx4ty-5i"
      },
      "execution_count": 18,
      "outputs": []
    },
    {
      "cell_type": "markdown",
      "source": [
        "**Linearize all png images**"
      ],
      "metadata": {
        "id": "na03nPVuQmXI"
      }
    },
    {
      "cell_type": "code",
      "source": [
        "#preprocessImagesInDirectory\n",
        "def preprocessImagesInDirectory(image_directory):\n",
        "  resized_linear_images = []\n",
        "  # List of image paths\n",
        "  image_paths = [os.path.join(image_directory, file) for file in os.listdir(image_directory) if file.endswith(('.PNG'))]\n",
        "\n",
        "  for i in range(len(image_paths)):\n",
        "      raw_img= cv2.imread(image_paths[i], cv2.IMREAD_UNCHANGED)\n",
        "      resized_linear_images.append(preprocessImage(raw_img))\n",
        "      #if i==100:\n",
        "        #break\n",
        "      print(i,end=' ')\n",
        "      if(i%20==0):\n",
        "        print()\n",
        "      #cv2.imwrite(f\"/content/drive/MyDrive/ColorConstancy/LinearizedRawImages/{i}.png\", linearized_image)\n",
        "  return resized_linear_images\n",
        "\n",
        "resized_linear_images = preprocessImagesInDirectory(\"/content/drive/MyDrive/ColorConstancy/CubePlus200Imgs/\")\n"
      ],
      "metadata": {
        "colab": {
          "base_uri": "https://localhost:8080/"
        },
        "id": "OLBhrkccQlYt",
        "outputId": "96177b62-c2ae-4323-d724-b263f483498b"
      },
      "execution_count": 36,
      "outputs": [
        {
          "output_type": "stream",
          "name": "stdout",
          "text": [
            "0 \n",
            "1 2 3 4 5 6 7 8 9 10 11 12 13 14 15 16 17 18 19 20 \n",
            "21 22 23 24 25 26 27 28 29 30 31 32 33 34 35 36 37 38 39 40 \n",
            "41 42 43 44 45 46 47 48 49 50 51 52 53 54 55 56 57 58 59 60 \n",
            "61 62 63 64 65 66 67 68 69 70 71 72 73 74 75 76 77 78 79 80 \n",
            "81 82 83 84 85 86 87 88 89 90 91 92 93 94 95 96 97 98 99 100 \n",
            "101 102 103 104 105 106 107 108 109 110 111 112 113 114 115 116 117 118 119 120 \n",
            "121 122 123 124 125 126 127 128 129 130 131 132 133 134 135 136 137 138 139 140 \n",
            "141 142 143 144 145 146 147 148 149 150 151 152 153 154 155 156 157 158 159 160 \n",
            "161 162 163 164 165 166 167 168 169 170 171 172 173 174 175 176 177 178 179 180 \n",
            "181 182 183 184 185 186 187 188 189 190 191 192 193 194 195 196 197 198 199 200 \n",
            "201 202 203 204 205 206 207 208 209 210 211 212 213 214 215 216 217 218 219 220 \n",
            "221 222 223 224 225 226 227 228 229 230 231 232 233 234 235 236 237 238 239 240 \n",
            "241 242 243 244 245 246 247 248 249 250 251 252 253 254 255 256 257 258 259 260 \n",
            "261 262 263 264 265 266 267 268 269 270 271 272 273 274 275 276 277 278 279 280 \n",
            "281 282 283 284 285 286 287 288 289 290 291 292 293 294 295 296 297 298 299 300 \n",
            "301 302 303 304 305 306 307 308 309 310 311 312 313 314 315 316 317 318 319 320 \n",
            "321 322 323 324 325 326 327 328 329 330 331 332 333 334 335 336 337 338 339 340 \n",
            "341 342 343 344 345 346 347 348 349 350 351 352 353 354 355 356 357 358 359 360 \n",
            "361 362 363 364 365 366 367 368 369 370 371 372 373 374 375 376 377 378 379 380 \n",
            "381 382 383 384 385 386 387 388 389 390 391 392 393 394 395 396 397 398 399 400 \n",
            "401 402 403 404 405 406 407 408 409 410 411 412 413 414 415 416 417 418 419 420 \n",
            "421 422 423 424 425 426 427 428 429 430 431 432 433 434 435 436 437 438 439 440 \n",
            "441 442 443 444 445 446 447 448 449 450 451 452 453 454 455 456 457 458 459 460 \n",
            "461 462 463 464 465 466 467 468 469 470 471 472 473 474 475 476 477 478 479 480 \n",
            "481 482 483 484 485 486 487 488 489 490 491 492 493 494 495 496 497 498 499 500 \n",
            "501 502 503 504 505 506 507 508 509 510 511 512 513 514 515 516 517 518 519 520 \n",
            "521 522 523 524 525 526 527 528 529 530 531 532 533 534 535 536 537 538 539 540 \n",
            "541 542 543 544 545 546 547 548 549 550 551 552 553 554 555 556 557 558 559 560 \n",
            "561 562 563 564 565 566 567 568 569 570 571 572 573 574 575 576 577 578 579 580 \n",
            "581 582 583 584 585 586 587 588 589 590 591 592 593 594 595 596 597 598 599 "
          ]
        }
      ]
    },
    {
      "cell_type": "code",
      "source": [],
      "metadata": {
        "id": "vdOYpbeL7EIX"
      },
      "execution_count": null,
      "outputs": []
    },
    {
      "cell_type": "code",
      "source": [
        "print(resized_linear_images[0].shape)"
      ],
      "metadata": {
        "colab": {
          "base_uri": "https://localhost:8080/"
        },
        "id": "3zd6owVlU0yN",
        "outputId": "435bd395-ccdc-4827-e53c-cef4ed957939"
      },
      "execution_count": 37,
      "outputs": [
        {
          "output_type": "stream",
          "name": "stdout",
          "text": [
            "(224, 224, 3)\n"
          ]
        }
      ]
    },
    {
      "cell_type": "markdown",
      "source": [
        "**Save preprocesses images**"
      ],
      "metadata": {
        "id": "lks1vN_O2Hlo"
      }
    },
    {
      "cell_type": "code",
      "source": [
        "# Save the linearized image as a .npy file\n",
        "\n",
        "def saveNPArray(filename,array):\n",
        "  # Define the directory where you want to save the file\n",
        "  save_directory = \"/content/drive/MyDrive/ColorConstancy/PreprocessesImages/\"\n",
        "\n",
        "  # Check if the directory exists, if not, create it\n",
        "  if not os.path.exists(save_directory):\n",
        "      os.makedirs(save_directory)\n",
        "\n",
        "  # Define the full path for the .npy file\n",
        "  file_path = os.path.join(save_directory, filename)\n",
        "\n",
        "  # Save the linearized image as a .npy file in the specified directory\n",
        "  np.save(file_path, array)\n",
        "\n",
        "saveNPArray(\"linearized_raw_image_nparray.npy\",resized_linear_images)"
      ],
      "metadata": {
        "id": "Dj48I5NK2L47"
      },
      "execution_count": 38,
      "outputs": []
    },
    {
      "cell_type": "code",
      "source": [
        "# Later, you can load the image back from that directory\n",
        "loaded_linearised_images = np.load(\"/content/drive/MyDrive/ColorConstancy/PreprocessesImages/linearized_raw_image_nparray.npy\")"
      ],
      "metadata": {
        "id": "zLoIQf6c6PTr"
      },
      "execution_count": 39,
      "outputs": []
    },
    {
      "cell_type": "code",
      "source": [
        "# Compute the difference\n",
        "difference = np.abs(resized_linear_images - loaded_linearised_images)\n",
        "print(difference.max())"
      ],
      "metadata": {
        "colab": {
          "base_uri": "https://localhost:8080/"
        },
        "id": "WRbEgb8G3HXJ",
        "outputId": "c8178ea0-075d-4e5f-cb7b-db79accfa36d"
      },
      "execution_count": 40,
      "outputs": [
        {
          "output_type": "stream",
          "name": "stdout",
          "text": [
            "0.0\n"
          ]
        }
      ]
    },
    {
      "cell_type": "markdown",
      "source": [
        "**Load ground truth values: Illumination values for PNG image**"
      ],
      "metadata": {
        "id": "eViLRPzBp72y"
      }
    },
    {
      "cell_type": "code",
      "source": [
        "#Getting grount truth illumination values\n",
        "file_path = '/content/drive/MyDrive/ColorConstancy/cube+_gt.txt'\n",
        "\n",
        "illuminant_true_values = []\n",
        "\n",
        "with open(file_path, 'r') as file:\n",
        "    for i, line in enumerate(file):\n",
        "      values = line.strip().split()\n",
        "      if len(values) == 3:\n",
        "            illuminant_true_values.append([float(value) for value in values])\n"
      ],
      "metadata": {
        "id": "CmXXJ_thqDIV"
      },
      "execution_count": 41,
      "outputs": []
    },
    {
      "cell_type": "code",
      "source": [
        "from tensorflow.keras.applications import MobileNetV2\n",
        "from tensorflow.keras.layers import GlobalAveragePooling2D, Dense\n",
        "from tensorflow.keras.models import Model\n",
        "from tensorflow.keras import layers,models\n",
        "import tensorflow as tf\n",
        "\n",
        "\n",
        "# Define a custom regression model based on MobileNetV2\n",
        "def create_model():\n",
        "    base_model = MobileNetV2(input_shape=(224, 224, 3), include_top=False, weights='imagenet')\n",
        "    for layer in base_model.layers:\n",
        "        layer.trainable = False  # Freeze the pretrained layers\n",
        "\n",
        "    # Add custom layers for regression\n",
        "    x = layers.GlobalAveragePooling2D()(base_model.output)\n",
        "    x = layers.Dense(128, activation='relu')(x)\n",
        "    output = layers.Dense(3, activation='linear')(x)  # Output layer with 3 units for RGB illuminant values\n",
        "\n",
        "    model = models.Model(inputs=base_model.input, outputs=output)\n",
        "\n",
        "    return model\n",
        "\n",
        "# Create the model\n",
        "model = create_model()\n",
        "\n",
        "# Compile the model\n",
        "model.compile(optimizer='adam', loss='mse')\n",
        "\n",
        "# Create a data generator using tf.data.Dataset\n",
        "batch_size = 32  # Adjust batch size as needed\n",
        "# Convert the lists to TensorFlow tensors\n",
        "linearised_png_images_tensor = tf.convert_to_tensor(loaded_linearised_images, dtype=tf.float32)\n",
        "illuminant_true_values_tensor = tf.convert_to_tensor(illuminant_true_values[0:len(loaded_linearised_images)], dtype=tf.float32)\n",
        "\n",
        "# Create a TensorFlow dataset\n",
        "train_dataset = tf.data.Dataset.from_tensor_slices((linearised_png_images_tensor, illuminant_true_values_tensor))\n",
        "\n",
        "# Optionally, you can add dataset operations such as batching, shuffling, etc.\n",
        "train_dataset = train_dataset.shuffle(buffer_size=1000).batch(batch_size=32)\n",
        "\n",
        "# Train the model\n",
        "num_epochs = 100  # Adjust the number of training epochs\n",
        "history = model.fit(train_dataset, epochs=num_epochs, verbose=1)"
      ],
      "metadata": {
        "colab": {
          "base_uri": "https://localhost:8080/"
        },
        "id": "C54H4pQEkaIn",
        "outputId": "d2648c85-903d-43fe-dd72-f5dedf80e172"
      },
      "execution_count": 42,
      "outputs": [
        {
          "output_type": "stream",
          "name": "stdout",
          "text": [
            "Epoch 1/100\n",
            "19/19 [==============================] - 3s 18ms/step - loss: 0.5351\n",
            "Epoch 2/100\n",
            "19/19 [==============================] - 0s 16ms/step - loss: 0.0547\n",
            "Epoch 3/100\n",
            "19/19 [==============================] - 0s 17ms/step - loss: 0.0121\n",
            "Epoch 4/100\n",
            "19/19 [==============================] - 0s 17ms/step - loss: 0.0042\n",
            "Epoch 5/100\n",
            "19/19 [==============================] - 0s 16ms/step - loss: 0.0034\n",
            "Epoch 6/100\n",
            "19/19 [==============================] - 0s 16ms/step - loss: 0.0034\n",
            "Epoch 7/100\n",
            "19/19 [==============================] - 0s 16ms/step - loss: 0.0036\n",
            "Epoch 8/100\n",
            "19/19 [==============================] - 0s 16ms/step - loss: 0.0038\n",
            "Epoch 9/100\n",
            "19/19 [==============================] - 0s 16ms/step - loss: 0.0049\n",
            "Epoch 10/100\n",
            "19/19 [==============================] - 0s 17ms/step - loss: 0.0042\n",
            "Epoch 11/100\n",
            "19/19 [==============================] - 0s 17ms/step - loss: 0.0036\n",
            "Epoch 12/100\n",
            "19/19 [==============================] - 0s 17ms/step - loss: 0.0043\n",
            "Epoch 13/100\n",
            "19/19 [==============================] - 0s 16ms/step - loss: 0.0040\n",
            "Epoch 14/100\n",
            "19/19 [==============================] - 0s 16ms/step - loss: 0.0053\n",
            "Epoch 15/100\n",
            "19/19 [==============================] - 0s 16ms/step - loss: 0.0041\n",
            "Epoch 16/100\n",
            "19/19 [==============================] - 0s 16ms/step - loss: 0.0047\n",
            "Epoch 17/100\n",
            "19/19 [==============================] - 0s 16ms/step - loss: 0.0047\n",
            "Epoch 18/100\n",
            "19/19 [==============================] - 0s 16ms/step - loss: 0.0041\n",
            "Epoch 19/100\n",
            "19/19 [==============================] - 0s 16ms/step - loss: 0.0038\n",
            "Epoch 20/100\n",
            "19/19 [==============================] - 0s 16ms/step - loss: 0.0054\n",
            "Epoch 21/100\n",
            "19/19 [==============================] - 0s 16ms/step - loss: 0.0041\n",
            "Epoch 22/100\n",
            "19/19 [==============================] - 0s 16ms/step - loss: 0.0042\n",
            "Epoch 23/100\n",
            "19/19 [==============================] - 0s 17ms/step - loss: 0.0041\n",
            "Epoch 24/100\n",
            "19/19 [==============================] - 0s 16ms/step - loss: 0.0043\n",
            "Epoch 25/100\n",
            "19/19 [==============================] - 0s 16ms/step - loss: 0.0069\n",
            "Epoch 26/100\n",
            "19/19 [==============================] - 0s 17ms/step - loss: 0.0069\n",
            "Epoch 27/100\n",
            "19/19 [==============================] - 0s 16ms/step - loss: 0.0055\n",
            "Epoch 28/100\n",
            "19/19 [==============================] - 0s 16ms/step - loss: 0.0040\n",
            "Epoch 29/100\n",
            "19/19 [==============================] - 0s 16ms/step - loss: 0.0036\n",
            "Epoch 30/100\n",
            "19/19 [==============================] - 0s 16ms/step - loss: 0.0037\n",
            "Epoch 31/100\n",
            "19/19 [==============================] - 0s 17ms/step - loss: 0.0056\n",
            "Epoch 32/100\n",
            "19/19 [==============================] - 0s 17ms/step - loss: 0.0053\n",
            "Epoch 33/100\n",
            "19/19 [==============================] - 0s 16ms/step - loss: 0.0062\n",
            "Epoch 34/100\n",
            "19/19 [==============================] - 0s 16ms/step - loss: 0.0053\n",
            "Epoch 35/100\n",
            "19/19 [==============================] - 0s 17ms/step - loss: 0.0089\n",
            "Epoch 36/100\n",
            "19/19 [==============================] - 0s 17ms/step - loss: 0.0071\n",
            "Epoch 37/100\n",
            "19/19 [==============================] - 0s 17ms/step - loss: 0.0053\n",
            "Epoch 38/100\n",
            "19/19 [==============================] - 0s 16ms/step - loss: 0.0061\n",
            "Epoch 39/100\n",
            "19/19 [==============================] - 0s 17ms/step - loss: 0.0043\n",
            "Epoch 40/100\n",
            "19/19 [==============================] - 0s 17ms/step - loss: 0.0066\n",
            "Epoch 41/100\n",
            "19/19 [==============================] - 0s 16ms/step - loss: 0.0055\n",
            "Epoch 42/100\n",
            "19/19 [==============================] - 0s 16ms/step - loss: 0.0060\n",
            "Epoch 43/100\n",
            "19/19 [==============================] - 0s 17ms/step - loss: 0.0053\n",
            "Epoch 44/100\n",
            "19/19 [==============================] - 0s 16ms/step - loss: 0.0037\n",
            "Epoch 45/100\n",
            "19/19 [==============================] - 0s 16ms/step - loss: 0.0053\n",
            "Epoch 46/100\n",
            "19/19 [==============================] - 0s 16ms/step - loss: 0.0041\n",
            "Epoch 47/100\n",
            "19/19 [==============================] - 0s 16ms/step - loss: 0.0041\n",
            "Epoch 48/100\n",
            "19/19 [==============================] - 0s 16ms/step - loss: 0.0047\n",
            "Epoch 49/100\n",
            "19/19 [==============================] - 0s 16ms/step - loss: 0.0038\n",
            "Epoch 50/100\n",
            "19/19 [==============================] - 0s 16ms/step - loss: 0.0044\n",
            "Epoch 51/100\n",
            "19/19 [==============================] - 0s 17ms/step - loss: 0.0051\n",
            "Epoch 52/100\n",
            "19/19 [==============================] - 0s 17ms/step - loss: 0.0039\n",
            "Epoch 53/100\n",
            "19/19 [==============================] - 0s 16ms/step - loss: 0.0054\n",
            "Epoch 54/100\n",
            "19/19 [==============================] - 0s 16ms/step - loss: 0.0054\n",
            "Epoch 55/100\n",
            "19/19 [==============================] - 0s 16ms/step - loss: 0.0080\n",
            "Epoch 56/100\n",
            "19/19 [==============================] - 0s 16ms/step - loss: 0.0081\n",
            "Epoch 57/100\n",
            "19/19 [==============================] - 0s 16ms/step - loss: 0.0081\n",
            "Epoch 58/100\n",
            "19/19 [==============================] - 0s 17ms/step - loss: 0.0105\n",
            "Epoch 59/100\n",
            "19/19 [==============================] - 0s 16ms/step - loss: 0.0066\n",
            "Epoch 60/100\n",
            "19/19 [==============================] - 0s 16ms/step - loss: 0.0071\n",
            "Epoch 61/100\n",
            "19/19 [==============================] - 0s 16ms/step - loss: 0.0043\n",
            "Epoch 62/100\n",
            "19/19 [==============================] - 0s 16ms/step - loss: 0.0044\n",
            "Epoch 63/100\n",
            "19/19 [==============================] - 0s 16ms/step - loss: 0.0055\n",
            "Epoch 64/100\n",
            "19/19 [==============================] - 0s 17ms/step - loss: 0.0066\n",
            "Epoch 65/100\n",
            "19/19 [==============================] - 0s 17ms/step - loss: 0.0055\n",
            "Epoch 66/100\n",
            "19/19 [==============================] - 0s 17ms/step - loss: 0.0067\n",
            "Epoch 67/100\n",
            "19/19 [==============================] - 0s 17ms/step - loss: 0.0127\n",
            "Epoch 68/100\n",
            "19/19 [==============================] - 0s 16ms/step - loss: 0.0162\n",
            "Epoch 69/100\n",
            "19/19 [==============================] - 0s 16ms/step - loss: 0.0054\n",
            "Epoch 70/100\n",
            "19/19 [==============================] - 0s 16ms/step - loss: 0.0094\n",
            "Epoch 71/100\n",
            "19/19 [==============================] - 0s 16ms/step - loss: 0.0042\n",
            "Epoch 72/100\n",
            "19/19 [==============================] - 0s 16ms/step - loss: 0.0078\n",
            "Epoch 73/100\n",
            "19/19 [==============================] - 0s 16ms/step - loss: 0.0087\n",
            "Epoch 74/100\n",
            "19/19 [==============================] - 0s 16ms/step - loss: 0.0067\n",
            "Epoch 75/100\n",
            "19/19 [==============================] - 0s 17ms/step - loss: 0.0060\n",
            "Epoch 76/100\n",
            "19/19 [==============================] - 0s 17ms/step - loss: 0.0071\n",
            "Epoch 77/100\n",
            "19/19 [==============================] - 0s 17ms/step - loss: 0.0051\n",
            "Epoch 78/100\n",
            "19/19 [==============================] - 0s 16ms/step - loss: 0.0046\n",
            "Epoch 79/100\n",
            "19/19 [==============================] - 0s 17ms/step - loss: 0.0051\n",
            "Epoch 80/100\n",
            "19/19 [==============================] - 0s 18ms/step - loss: 0.0066\n",
            "Epoch 81/100\n",
            "19/19 [==============================] - 0s 16ms/step - loss: 0.0047\n",
            "Epoch 82/100\n",
            "19/19 [==============================] - 0s 16ms/step - loss: 0.0042\n",
            "Epoch 83/100\n",
            "19/19 [==============================] - 0s 16ms/step - loss: 0.0042\n",
            "Epoch 84/100\n",
            "19/19 [==============================] - 0s 16ms/step - loss: 0.0097\n",
            "Epoch 85/100\n",
            "19/19 [==============================] - 0s 16ms/step - loss: 0.0050\n",
            "Epoch 86/100\n",
            "19/19 [==============================] - 0s 16ms/step - loss: 0.0068\n",
            "Epoch 87/100\n",
            "19/19 [==============================] - 0s 16ms/step - loss: 0.0060\n",
            "Epoch 88/100\n",
            "19/19 [==============================] - 0s 16ms/step - loss: 0.0041\n",
            "Epoch 89/100\n",
            "19/19 [==============================] - 0s 16ms/step - loss: 0.0059\n",
            "Epoch 90/100\n",
            "19/19 [==============================] - 0s 16ms/step - loss: 0.0059\n",
            "Epoch 91/100\n",
            "19/19 [==============================] - 0s 16ms/step - loss: 0.0065\n",
            "Epoch 92/100\n",
            "19/19 [==============================] - 0s 16ms/step - loss: 0.0048\n",
            "Epoch 93/100\n",
            "19/19 [==============================] - 0s 16ms/step - loss: 0.0070\n",
            "Epoch 94/100\n",
            "19/19 [==============================] - 0s 16ms/step - loss: 0.0081\n",
            "Epoch 95/100\n",
            "19/19 [==============================] - 0s 16ms/step - loss: 0.0052\n",
            "Epoch 96/100\n",
            "19/19 [==============================] - 0s 16ms/step - loss: 0.0044\n",
            "Epoch 97/100\n",
            "19/19 [==============================] - 0s 16ms/step - loss: 0.0089\n",
            "Epoch 98/100\n",
            "19/19 [==============================] - 0s 16ms/step - loss: 0.0090\n",
            "Epoch 99/100\n",
            "19/19 [==============================] - 0s 16ms/step - loss: 0.0074\n",
            "Epoch 100/100\n",
            "19/19 [==============================] - 0s 16ms/step - loss: 0.0042\n"
          ]
        }
      ]
    },
    {
      "cell_type": "markdown",
      "source": [
        "**Make a preiction**\n"
      ],
      "metadata": {
        "id": "lomf2kRkuWDa"
      }
    },
    {
      "cell_type": "code",
      "source": [
        "test_png_imag_path=\"/content/drive/MyDrive/ColorConstancy/TestImages/1001.PNG\"\n",
        "\n",
        "#Perform preprocessing:\n",
        "png_img=cv2.imread(test_png_imag_path, cv2.IMREAD_UNCHANGED)\n",
        "resized_linear_image = preprocessImage(png_img)"
      ],
      "metadata": {
        "id": "UBuv3oAHuYm_"
      },
      "execution_count": 43,
      "outputs": []
    },
    {
      "cell_type": "code",
      "source": [
        "\n",
        "# Make predictions\n",
        "\n",
        "# Expand dimensions to match the shape of (batch_size, height, width, channels)\n",
        "img_batch = np.expand_dims(resized_linear_image, axis=0)\n",
        "\n",
        "# Predict the values using the trained model\n",
        "predictions = model.predict(img_batch)\n",
        "\n",
        "predictions\n"
      ],
      "metadata": {
        "colab": {
          "base_uri": "https://localhost:8080/"
        },
        "id": "IpGh8Lwqu46b",
        "outputId": "306df8b1-490d-4044-ca63-0b9710314bda"
      },
      "execution_count": 44,
      "outputs": [
        {
          "output_type": "stream",
          "name": "stdout",
          "text": [
            "1/1 [==============================] - 1s 769ms/step\n"
          ]
        },
        {
          "output_type": "execute_result",
          "data": {
            "text/plain": [
              "array([[0.2083752 , 0.4479513 , 0.33874932]], dtype=float32)"
            ]
          },
          "metadata": {},
          "execution_count": 44
        }
      ]
    },
    {
      "cell_type": "markdown",
      "source": [
        "1001.PNG GT       :[0.23895582 0.47590361 0.28514056]\n",
        "\n",
        "First prediction  : [0.46585822, 0.7702673 , 0.03647143]\n",
        "\n",
        "Second prediction : [0.2062704 , 0.24868996, 0.08920331]\n",
        "\n",
        "Third prediction  : [0.20485055, 0.4598795 , 0.3357277 ]"
      ],
      "metadata": {
        "id": "2IQFJ0snyEz3"
      }
    },
    {
      "cell_type": "markdown",
      "source": [
        "**Preprocess test images**"
      ],
      "metadata": {
        "id": "RCdE0dnz6D96"
      }
    },
    {
      "cell_type": "code",
      "source": [
        "linearized_test_images = preprocessImagesInDirectory(\"/content/drive/MyDrive/ColorConstancy/TestImages\")\n",
        "saveNPArray(\"linearized_test_images_nparray.npy\",linearized_test_images)"
      ],
      "metadata": {
        "colab": {
          "base_uri": "https://localhost:8080/"
        },
        "id": "aT4GQ-53vKzd",
        "outputId": "f30dfaa1-b717-4f2f-c83c-810a6bb78559"
      },
      "execution_count": 45,
      "outputs": [
        {
          "output_type": "stream",
          "name": "stdout",
          "text": [
            "0 \n",
            "1 2 3 4 5 6 7 8 9 10 11 12 13 14 15 16 17 18 19 20 \n",
            "21 22 23 24 25 26 27 28 29 30 31 32 33 34 35 36 37 38 39 40 \n",
            "41 42 43 44 45 46 47 48 49 50 51 52 53 54 55 56 57 58 59 60 \n",
            "61 62 63 64 65 66 67 68 69 70 71 72 73 74 75 76 77 78 79 80 \n",
            "81 82 83 84 85 86 87 88 89 90 91 92 93 94 95 96 97 98 99 100 \n",
            "101 102 103 104 105 106 107 108 109 110 111 112 113 114 115 116 117 118 119 120 \n",
            "121 122 123 124 125 126 127 128 129 130 131 132 133 134 135 136 137 138 139 140 \n",
            "141 142 143 144 145 146 147 148 149 150 151 152 153 154 155 156 157 158 159 160 \n",
            "161 162 163 164 165 166 167 168 169 170 171 172 173 174 175 176 177 178 179 180 \n",
            "181 182 183 184 185 186 187 188 189 190 191 192 193 194 195 196 197 198 199 "
          ]
        }
      ]
    },
    {
      "cell_type": "markdown",
      "source": [
        "**Predictions made with 200 test images**"
      ],
      "metadata": {
        "id": "XK9zj_6Q9XeJ"
      }
    },
    {
      "cell_type": "code",
      "source": [
        "# Create a data generator for inference\n",
        "inference_dataset = tf.data.Dataset.from_tensor_slices(linearized_test_images)\n",
        "inference_dataset = inference_dataset.batch(batch_size)\n",
        "\n",
        "# Make predictions\n",
        "predictions= model.predict(inference_dataset)\n",
        "predictions.shape\n"
      ],
      "metadata": {
        "colab": {
          "base_uri": "https://localhost:8080/"
        },
        "id": "KqkundM36NiO",
        "outputId": "d64e6093-14bd-44c8-cb85-ac59a9bc23aa"
      },
      "execution_count": 47,
      "outputs": [
        {
          "output_type": "stream",
          "name": "stdout",
          "text": [
            "7/7 [==============================] - 1s 22ms/step\n"
          ]
        },
        {
          "output_type": "execute_result",
          "data": {
            "text/plain": [
              "(200, 3)"
            ]
          },
          "metadata": {},
          "execution_count": 47
        }
      ]
    },
    {
      "cell_type": "markdown",
      "source": [
        "**Metrics**"
      ],
      "metadata": {
        "id": "hlz5xIzl96Hv"
      }
    },
    {
      "cell_type": "code",
      "source": [
        "def angularError(true_illumination, prediction):\n",
        "  # Normalize the vectors\n",
        "    true_color_normalized = true_illumination / np.linalg.norm(true_illumination)\n",
        "    estimated_color_normalized = prediction / np.linalg.norm(prediction)\n",
        "\n",
        "    # Compute the dot product\n",
        "    dot_product = np.dot(true_color_normalized, estimated_color_normalized)\n",
        "\n",
        "    # Clip the dot product to avoid numerical issues with arccos\n",
        "    dot_product = np.clip(dot_product, -1.0, 1.0)\n",
        "\n",
        "    # Compute the angular error in radians\n",
        "    angle_rad = np.arccos(dot_product)\n",
        "\n",
        "    # Convert the angular error to degrees\n",
        "    angle_deg = np.degrees(angle_rad)\n",
        "\n",
        "    return angle_deg\n",
        "\n",
        "\n"
      ],
      "metadata": {
        "id": "8lBoL8gf9kR6"
      },
      "execution_count": 48,
      "outputs": []
    },
    {
      "cell_type": "code",
      "source": [
        "angularError(illuminant_true_values[1001],predictions[0])"
      ],
      "metadata": {
        "colab": {
          "base_uri": "https://localhost:8080/"
        },
        "id": "bMQbNS_o97-Q",
        "outputId": "e7933390-8967-485e-d7f2-ba246cd60017"
      },
      "execution_count": 49,
      "outputs": [
        {
          "output_type": "execute_result",
          "data": {
            "text/plain": [
              "1.9478522226862471"
            ]
          },
          "metadata": {},
          "execution_count": 49
        }
      ]
    },
    {
      "cell_type": "markdown",
      "source": [
        "**Summary statistics**"
      ],
      "metadata": {
        "id": "sDUg6P0W-sNo"
      }
    },
    {
      "cell_type": "code",
      "source": [
        "import statistics\n",
        "\n",
        "def summary_statistics(angular_errors):\n",
        "    # Step 1: Sort the array\n",
        "    sorted_arr = np.sort(angular_errors)\n",
        "\n",
        "    # Step 2: Calculate Q1 (25th percentile)\n",
        "    q1 = np.percentile(sorted_arr, 25)\n",
        "\n",
        "    # Step 3: Calculate Q3 (75th percentile)\n",
        "    q3 = np.percentile(sorted_arr, 75)\n",
        "\n",
        "    # Step 4: Calculate the median (50th percentile)\n",
        "    median = statistics.median(sorted_arr)\n",
        "\n",
        "    # Step 5: Calculate the trimean\n",
        "    trimean = (q1 + 2 * median + q3) / 4\n",
        "\n",
        "    # Step 6: Calculate the average of the lowest 25% of values\n",
        "    lower_25_avg = np.mean(sorted_arr[:len(sorted_arr)//4])\n",
        "\n",
        "    # Step 7: Calculate the average of the highest 25% of values\n",
        "    upper_25_avg = np.mean(sorted_arr[-(len(sorted_arr)//4):])\n",
        "\n",
        "    # Step 8: Calculate the overall mean\n",
        "    overall_mean = np.mean(sorted_arr)\n",
        "\n",
        "    # Print the results\n",
        "    print(\"Mean:\", overall_mean,end='\\n')\n",
        "    print(\"Median:\", median,end='\\n')\n",
        "    print(\"Trimean:\", trimean,end='\\n')\n",
        "    print(\"Average of the Lowest 25%:\", lower_25_avg,end='\\n')\n",
        "    print(\"Average of the Highest 25%:\", upper_25_avg,end='\\n')\n"
      ],
      "metadata": {
        "id": "IyC4zxv1-pNY"
      },
      "execution_count": 50,
      "outputs": []
    },
    {
      "cell_type": "code",
      "source": [
        "type(illuminant_true_values[1001:1201])"
      ],
      "metadata": {
        "colab": {
          "base_uri": "https://localhost:8080/"
        },
        "id": "XUoMzq83_cnF",
        "outputId": "84a8197f-f985-47d1-faf4-30fa55f27bec"
      },
      "execution_count": 62,
      "outputs": [
        {
          "output_type": "execute_result",
          "data": {
            "text/plain": [
              "list"
            ]
          },
          "metadata": {},
          "execution_count": 62
        }
      ]
    },
    {
      "cell_type": "code",
      "source": [
        "type(predictions)"
      ],
      "metadata": {
        "colab": {
          "base_uri": "https://localhost:8080/"
        },
        "id": "4eeLrVDY_1z0",
        "outputId": "e6327785-00ec-4623-c42c-0f9e8433a9e3"
      },
      "execution_count": 61,
      "outputs": [
        {
          "output_type": "execute_result",
          "data": {
            "text/plain": [
              "numpy.ndarray"
            ]
          },
          "metadata": {},
          "execution_count": 61
        }
      ]
    },
    {
      "cell_type": "code",
      "source": [
        "# Compute the angular error for each pair of true and predicted illuminations\n",
        "angular_errors = [angularError(true_ill, pred_ill) for true_ill, pred_ill in zip(np.array(illuminant_true_values[1001:1201]), predictions)]\n",
        "summary_statistics(angular_errors)"
      ],
      "metadata": {
        "colab": {
          "base_uri": "https://localhost:8080/"
        },
        "id": "V25ZfCzF-e32",
        "outputId": "6890e47f-41ef-4818-978e-d14a9f71a182"
      },
      "execution_count": 64,
      "outputs": [
        {
          "output_type": "stream",
          "name": "stdout",
          "text": [
            "Mean: 6.328763261060834\n",
            "Median: 2.5137465019055325\n",
            "Trimean: 3.055577905310744\n",
            "Average of the Lowest 25%: 1.8975095961435278\n",
            "Average of the Highest 25%: 17.895648026718423\n"
          ]
        }
      ]
    },
    {
      "cell_type": "markdown",
      "source": [
        "**Compile model with Angular error**"
      ],
      "metadata": {
        "id": "c-bkhS67BFlO"
      }
    },
    {
      "cell_type": "code",
      "source": [
        "def angular_error_loss(y_true, y_pred):\n",
        "    y_true_norm = tf.nn.l2_normalize(y_true, axis=1)\n",
        "    y_pred_norm = tf.nn.l2_normalize(y_pred, axis=1)\n",
        "    dot_product = tf.reduce_sum(tf.multiply(y_true_norm, y_pred_norm), axis=1)\n",
        "    dot_product = tf.clip_by_value(dot_product, -1.0, 1.0)\n",
        "\n",
        "    dot_product_checked = tf.debugging.check_numerics(dot_product, \"dot_product\")\n",
        "    angle_rad = tf.acos(dot_product_checked)\n",
        "\n",
        "\n",
        "    angle_rad = tf.acos(dot_product)\n",
        "    angle_deg = tf.math.scalar_mul(tf.constant(180.0 / np.pi, dtype=tf.float32), angle_rad)\n",
        "    return angle_deg"
      ],
      "metadata": {
        "id": "wLcfhKPtBzw-"
      },
      "execution_count": 75,
      "outputs": []
    },
    {
      "cell_type": "code",
      "source": [
        "\n",
        "# Create the model\n",
        "model = create_model()\n",
        "\n",
        "# Compile the model\n",
        "model.compile(optimizer='adam', loss='mse')"
      ],
      "metadata": {
        "id": "ikRIKhxu_aBg"
      },
      "execution_count": 79,
      "outputs": []
    },
    {
      "cell_type": "code",
      "source": [
        "# Train the model\n",
        "num_epochs = 100  # Adjust the number of training epochs\n",
        "history = model.fit(train_dataset, epochs=num_epochs, verbose=1)"
      ],
      "metadata": {
        "colab": {
          "base_uri": "https://localhost:8080/"
        },
        "id": "Ng7Bk0_9BNBU",
        "outputId": "3b1a1efe-2488-48b2-b6e5-18ec194831ef"
      },
      "execution_count": 80,
      "outputs": [
        {
          "output_type": "stream",
          "name": "stdout",
          "text": [
            "Epoch 1/100\n",
            "19/19 [==============================] - 3s 18ms/step - loss: 0.6207\n",
            "Epoch 2/100\n",
            "19/19 [==============================] - 0s 18ms/step - loss: 0.0579\n",
            "Epoch 3/100\n",
            "19/19 [==============================] - 0s 17ms/step - loss: 0.0107\n",
            "Epoch 4/100\n",
            "19/19 [==============================] - 0s 17ms/step - loss: 0.0052\n",
            "Epoch 5/100\n",
            "19/19 [==============================] - 0s 17ms/step - loss: 0.0045\n",
            "Epoch 6/100\n",
            "19/19 [==============================] - 0s 17ms/step - loss: 0.0047\n",
            "Epoch 7/100\n",
            "19/19 [==============================] - 0s 17ms/step - loss: 0.0044\n",
            "Epoch 8/100\n",
            "19/19 [==============================] - 0s 17ms/step - loss: 0.0042\n",
            "Epoch 9/100\n",
            "19/19 [==============================] - 0s 17ms/step - loss: 0.0036\n",
            "Epoch 10/100\n",
            "19/19 [==============================] - 0s 17ms/step - loss: 0.0036\n",
            "Epoch 11/100\n",
            "19/19 [==============================] - 0s 17ms/step - loss: 0.0033\n",
            "Epoch 12/100\n",
            "19/19 [==============================] - 0s 17ms/step - loss: 0.0034\n",
            "Epoch 13/100\n",
            "19/19 [==============================] - 0s 17ms/step - loss: 0.0036\n",
            "Epoch 14/100\n",
            "19/19 [==============================] - 0s 17ms/step - loss: 0.0044\n",
            "Epoch 15/100\n",
            "19/19 [==============================] - 0s 17ms/step - loss: 0.0044\n",
            "Epoch 16/100\n",
            "19/19 [==============================] - 0s 17ms/step - loss: 0.0041\n",
            "Epoch 17/100\n",
            "19/19 [==============================] - 0s 17ms/step - loss: 0.0040\n",
            "Epoch 18/100\n",
            "19/19 [==============================] - 0s 18ms/step - loss: 0.0066\n",
            "Epoch 19/100\n",
            "19/19 [==============================] - 0s 17ms/step - loss: 0.0038\n",
            "Epoch 20/100\n",
            "19/19 [==============================] - 0s 18ms/step - loss: 0.0035\n",
            "Epoch 21/100\n",
            "19/19 [==============================] - 0s 17ms/step - loss: 0.0042\n",
            "Epoch 22/100\n",
            "19/19 [==============================] - 0s 17ms/step - loss: 0.0038\n",
            "Epoch 23/100\n",
            "19/19 [==============================] - 0s 17ms/step - loss: 0.0040\n",
            "Epoch 24/100\n",
            "19/19 [==============================] - 0s 17ms/step - loss: 0.0037\n",
            "Epoch 25/100\n",
            "19/19 [==============================] - 0s 17ms/step - loss: 0.0053\n",
            "Epoch 26/100\n",
            "19/19 [==============================] - 0s 17ms/step - loss: 0.0041\n",
            "Epoch 27/100\n",
            "19/19 [==============================] - 0s 17ms/step - loss: 0.0033\n",
            "Epoch 28/100\n",
            "19/19 [==============================] - 0s 17ms/step - loss: 0.0050\n",
            "Epoch 29/100\n",
            "19/19 [==============================] - 0s 17ms/step - loss: 0.0052\n",
            "Epoch 30/100\n",
            "19/19 [==============================] - 0s 17ms/step - loss: 0.0068\n",
            "Epoch 31/100\n",
            "19/19 [==============================] - 0s 17ms/step - loss: 0.0054\n",
            "Epoch 32/100\n",
            "19/19 [==============================] - 0s 17ms/step - loss: 0.0040\n",
            "Epoch 33/100\n",
            "19/19 [==============================] - 0s 17ms/step - loss: 0.0046\n",
            "Epoch 34/100\n",
            "19/19 [==============================] - 0s 17ms/step - loss: 0.0062\n",
            "Epoch 35/100\n",
            "19/19 [==============================] - 0s 17ms/step - loss: 0.0057\n",
            "Epoch 36/100\n",
            "19/19 [==============================] - 0s 17ms/step - loss: 0.0040\n",
            "Epoch 37/100\n",
            "19/19 [==============================] - 0s 17ms/step - loss: 0.0057\n",
            "Epoch 38/100\n",
            "19/19 [==============================] - 0s 17ms/step - loss: 0.0054\n",
            "Epoch 39/100\n",
            "19/19 [==============================] - 0s 17ms/step - loss: 0.0044\n",
            "Epoch 40/100\n",
            "19/19 [==============================] - 0s 17ms/step - loss: 0.0049\n",
            "Epoch 41/100\n",
            "19/19 [==============================] - 0s 17ms/step - loss: 0.0042\n",
            "Epoch 42/100\n",
            "19/19 [==============================] - 0s 17ms/step - loss: 0.0035\n",
            "Epoch 43/100\n",
            "19/19 [==============================] - 0s 17ms/step - loss: 0.0042\n",
            "Epoch 44/100\n",
            "19/19 [==============================] - 0s 17ms/step - loss: 0.0040\n",
            "Epoch 45/100\n",
            "19/19 [==============================] - 0s 17ms/step - loss: 0.0043\n",
            "Epoch 46/100\n",
            "19/19 [==============================] - 0s 17ms/step - loss: 0.0043\n",
            "Epoch 47/100\n",
            "19/19 [==============================] - 0s 17ms/step - loss: 0.0056\n",
            "Epoch 48/100\n",
            "19/19 [==============================] - 0s 17ms/step - loss: 0.0059\n",
            "Epoch 49/100\n",
            "19/19 [==============================] - 0s 17ms/step - loss: 0.0040\n",
            "Epoch 50/100\n",
            "19/19 [==============================] - 0s 17ms/step - loss: 0.0042\n",
            "Epoch 51/100\n",
            "19/19 [==============================] - 0s 17ms/step - loss: 0.0036\n",
            "Epoch 52/100\n",
            "19/19 [==============================] - 0s 17ms/step - loss: 0.0047\n",
            "Epoch 53/100\n",
            "19/19 [==============================] - 0s 18ms/step - loss: 0.0077\n",
            "Epoch 54/100\n",
            "19/19 [==============================] - 0s 17ms/step - loss: 0.0051\n",
            "Epoch 55/100\n",
            "19/19 [==============================] - 0s 18ms/step - loss: 0.0040\n",
            "Epoch 56/100\n",
            "19/19 [==============================] - 0s 18ms/step - loss: 0.0046\n",
            "Epoch 57/100\n",
            "19/19 [==============================] - 0s 18ms/step - loss: 0.0042\n",
            "Epoch 58/100\n",
            "19/19 [==============================] - 0s 17ms/step - loss: 0.0036\n",
            "Epoch 59/100\n",
            "19/19 [==============================] - 0s 17ms/step - loss: 0.0044\n",
            "Epoch 60/100\n",
            "19/19 [==============================] - 0s 17ms/step - loss: 0.0059\n",
            "Epoch 61/100\n",
            "19/19 [==============================] - 0s 17ms/step - loss: 0.0059\n",
            "Epoch 62/100\n",
            "19/19 [==============================] - 0s 17ms/step - loss: 0.0053\n",
            "Epoch 63/100\n",
            "19/19 [==============================] - 0s 17ms/step - loss: 0.0061\n",
            "Epoch 64/100\n",
            "19/19 [==============================] - 0s 17ms/step - loss: 0.0089\n",
            "Epoch 65/100\n",
            "19/19 [==============================] - 0s 17ms/step - loss: 0.0068\n",
            "Epoch 66/100\n",
            "19/19 [==============================] - 0s 18ms/step - loss: 0.0050\n",
            "Epoch 67/100\n",
            "19/19 [==============================] - 0s 18ms/step - loss: 0.0060\n",
            "Epoch 68/100\n",
            "19/19 [==============================] - 0s 17ms/step - loss: 0.0045\n",
            "Epoch 69/100\n",
            "19/19 [==============================] - 0s 17ms/step - loss: 0.0041\n",
            "Epoch 70/100\n",
            "19/19 [==============================] - 0s 17ms/step - loss: 0.0065\n",
            "Epoch 71/100\n",
            "19/19 [==============================] - 0s 17ms/step - loss: 0.0045\n",
            "Epoch 72/100\n",
            "19/19 [==============================] - 0s 17ms/step - loss: 0.0043\n",
            "Epoch 73/100\n",
            "19/19 [==============================] - 0s 17ms/step - loss: 0.0042\n",
            "Epoch 74/100\n",
            "19/19 [==============================] - 0s 17ms/step - loss: 0.0048\n",
            "Epoch 75/100\n",
            "19/19 [==============================] - 0s 17ms/step - loss: 0.0062\n",
            "Epoch 76/100\n",
            "19/19 [==============================] - 0s 17ms/step - loss: 0.0066\n",
            "Epoch 77/100\n",
            "19/19 [==============================] - 0s 17ms/step - loss: 0.0043\n",
            "Epoch 78/100\n",
            "19/19 [==============================] - 0s 17ms/step - loss: 0.0046\n",
            "Epoch 79/100\n",
            "19/19 [==============================] - 0s 17ms/step - loss: 0.0044\n",
            "Epoch 80/100\n",
            "19/19 [==============================] - 0s 17ms/step - loss: 0.0043\n",
            "Epoch 81/100\n",
            "19/19 [==============================] - 0s 17ms/step - loss: 0.0054\n",
            "Epoch 82/100\n",
            "19/19 [==============================] - 0s 17ms/step - loss: 0.0048\n",
            "Epoch 83/100\n",
            "19/19 [==============================] - 0s 17ms/step - loss: 0.0052\n",
            "Epoch 84/100\n",
            "19/19 [==============================] - 0s 17ms/step - loss: 0.0039\n",
            "Epoch 85/100\n",
            "19/19 [==============================] - 0s 17ms/step - loss: 0.0037\n",
            "Epoch 86/100\n",
            "19/19 [==============================] - 0s 17ms/step - loss: 0.0040\n",
            "Epoch 87/100\n",
            "19/19 [==============================] - 0s 17ms/step - loss: 0.0048\n",
            "Epoch 88/100\n",
            "19/19 [==============================] - 0s 18ms/step - loss: 0.0039\n",
            "Epoch 89/100\n",
            "19/19 [==============================] - 0s 17ms/step - loss: 0.0039\n",
            "Epoch 90/100\n",
            "19/19 [==============================] - 0s 17ms/step - loss: 0.0042\n",
            "Epoch 91/100\n",
            "19/19 [==============================] - 0s 17ms/step - loss: 0.0044\n",
            "Epoch 92/100\n",
            "19/19 [==============================] - 0s 17ms/step - loss: 0.0050\n",
            "Epoch 93/100\n",
            "19/19 [==============================] - 0s 17ms/step - loss: 0.0080\n",
            "Epoch 94/100\n",
            "19/19 [==============================] - 0s 17ms/step - loss: 0.0041\n",
            "Epoch 95/100\n",
            "19/19 [==============================] - 0s 17ms/step - loss: 0.0037\n",
            "Epoch 96/100\n",
            "19/19 [==============================] - 0s 17ms/step - loss: 0.0037\n",
            "Epoch 97/100\n",
            "19/19 [==============================] - 0s 17ms/step - loss: 0.0042\n",
            "Epoch 98/100\n",
            "19/19 [==============================] - 0s 17ms/step - loss: 0.0065\n",
            "Epoch 99/100\n",
            "19/19 [==============================] - 0s 17ms/step - loss: 0.0050\n",
            "Epoch 100/100\n",
            "19/19 [==============================] - 0s 17ms/step - loss: 0.0052\n"
          ]
        }
      ]
    },
    {
      "cell_type": "code",
      "source": [
        "predictions"
      ],
      "metadata": {
        "colab": {
          "base_uri": "https://localhost:8080/"
        },
        "id": "fxRyzmO5BVzc",
        "outputId": "f7c7924a-15b8-481d-c401-75723274d63d"
      },
      "execution_count": 81,
      "outputs": [
        {
          "output_type": "execute_result",
          "data": {
            "text/plain": [
              "array([[0.2083746 , 0.44795197, 0.33874905],\n",
              "       [0.2083746 , 0.44795197, 0.33874905],\n",
              "       [0.2083746 , 0.44795197, 0.33874905],\n",
              "       [0.2083746 , 0.44795197, 0.33874905],\n",
              "       [0.2083746 , 0.44795197, 0.33874905],\n",
              "       [0.2083746 , 0.44795197, 0.33874905],\n",
              "       [0.2083746 , 0.44795197, 0.33874905],\n",
              "       [0.2083746 , 0.44795197, 0.33874905],\n",
              "       [0.2083746 , 0.44795197, 0.33874905],\n",
              "       [0.2083746 , 0.44795197, 0.33874905],\n",
              "       [0.2083746 , 0.44795197, 0.33874905],\n",
              "       [0.2083746 , 0.44795197, 0.33874905],\n",
              "       [0.2083746 , 0.44795197, 0.33874905],\n",
              "       [0.2083746 , 0.44795197, 0.33874905],\n",
              "       [0.2083746 , 0.44795197, 0.33874905],\n",
              "       [0.2083746 , 0.44795197, 0.33874905],\n",
              "       [0.2083746 , 0.44795197, 0.33874905],\n",
              "       [0.2083746 , 0.44795197, 0.33874905],\n",
              "       [0.2083746 , 0.44795197, 0.33874905],\n",
              "       [0.2083746 , 0.44795197, 0.33874905],\n",
              "       [0.2083746 , 0.44795197, 0.33874905],\n",
              "       [0.2083746 , 0.44795197, 0.33874905],\n",
              "       [0.2083746 , 0.44795197, 0.33874905],\n",
              "       [0.2083746 , 0.44795197, 0.33874905],\n",
              "       [0.2083746 , 0.44795197, 0.33874905],\n",
              "       [0.2083746 , 0.44795197, 0.33874905],\n",
              "       [0.2083746 , 0.44795197, 0.33874905],\n",
              "       [0.2083746 , 0.44795197, 0.33874905],\n",
              "       [0.2083746 , 0.44795197, 0.33874905],\n",
              "       [0.2083746 , 0.44795197, 0.33874905],\n",
              "       [0.2083746 , 0.44795197, 0.33874905],\n",
              "       [0.2083746 , 0.44795197, 0.33874905],\n",
              "       [0.2083746 , 0.44795197, 0.33874905],\n",
              "       [0.2083746 , 0.44795197, 0.33874905],\n",
              "       [0.2083746 , 0.44795197, 0.33874905],\n",
              "       [0.2083746 , 0.44795197, 0.33874905],\n",
              "       [0.2083746 , 0.44795197, 0.33874905],\n",
              "       [0.2083746 , 0.44795197, 0.33874905],\n",
              "       [0.2083746 , 0.44795197, 0.33874905],\n",
              "       [0.2083746 , 0.44795197, 0.33874905],\n",
              "       [0.2083746 , 0.44795197, 0.33874905],\n",
              "       [0.2083746 , 0.44795197, 0.33874905],\n",
              "       [0.2083746 , 0.44795197, 0.33874905],\n",
              "       [0.2083746 , 0.44795197, 0.33874905],\n",
              "       [0.2083746 , 0.44795197, 0.33874905],\n",
              "       [0.2083746 , 0.44795197, 0.33874905],\n",
              "       [0.2083746 , 0.44795197, 0.33874905],\n",
              "       [0.2083746 , 0.44795197, 0.33874905],\n",
              "       [0.2083746 , 0.44795197, 0.33874905],\n",
              "       [0.2083746 , 0.44795197, 0.33874905],\n",
              "       [0.2083746 , 0.44795197, 0.33874905],\n",
              "       [0.2083746 , 0.44795197, 0.33874905],\n",
              "       [0.2083746 , 0.44795197, 0.33874905],\n",
              "       [0.2083746 , 0.44795197, 0.33874905],\n",
              "       [0.2083746 , 0.44795197, 0.33874905],\n",
              "       [0.2083746 , 0.44795197, 0.33874905],\n",
              "       [0.2083746 , 0.44795197, 0.33874905],\n",
              "       [0.2083746 , 0.44795197, 0.33874905],\n",
              "       [0.2083746 , 0.44795197, 0.33874905],\n",
              "       [0.2083746 , 0.44795197, 0.33874905],\n",
              "       [0.2083746 , 0.44795197, 0.33874905],\n",
              "       [0.2083746 , 0.44795197, 0.33874905],\n",
              "       [0.2083746 , 0.44795197, 0.33874905],\n",
              "       [0.2083746 , 0.44795197, 0.33874905],\n",
              "       [0.2083746 , 0.44795197, 0.33874905],\n",
              "       [0.2083746 , 0.44795197, 0.33874905],\n",
              "       [0.2083746 , 0.44795197, 0.33874905],\n",
              "       [0.2083746 , 0.44795197, 0.33874905],\n",
              "       [0.2083746 , 0.44795197, 0.33874905],\n",
              "       [0.2083746 , 0.44795197, 0.33874905],\n",
              "       [0.2083746 , 0.44795197, 0.33874905],\n",
              "       [0.2083746 , 0.44795197, 0.33874905],\n",
              "       [0.2083746 , 0.44795197, 0.33874905],\n",
              "       [0.2083746 , 0.44795197, 0.33874905],\n",
              "       [0.2083746 , 0.44795197, 0.33874905],\n",
              "       [0.2083746 , 0.44795197, 0.33874905],\n",
              "       [0.2083746 , 0.44795197, 0.33874905],\n",
              "       [0.2083746 , 0.44795197, 0.33874905],\n",
              "       [0.2083746 , 0.44795197, 0.33874905],\n",
              "       [0.2083746 , 0.44795197, 0.33874905],\n",
              "       [0.2083746 , 0.44795197, 0.33874905],\n",
              "       [0.2083746 , 0.44795197, 0.33874905],\n",
              "       [0.2083746 , 0.44795197, 0.33874905],\n",
              "       [0.2083746 , 0.44795197, 0.33874905],\n",
              "       [0.2083746 , 0.44795197, 0.33874905],\n",
              "       [0.2083746 , 0.44795197, 0.33874905],\n",
              "       [0.2083746 , 0.44795197, 0.33874905],\n",
              "       [0.2083746 , 0.44795197, 0.33874905],\n",
              "       [0.2083746 , 0.44795197, 0.33874905],\n",
              "       [0.2083746 , 0.44795197, 0.33874905],\n",
              "       [0.2083746 , 0.44795197, 0.33874905],\n",
              "       [0.2083746 , 0.44795197, 0.33874905],\n",
              "       [0.2083746 , 0.44795197, 0.33874905],\n",
              "       [0.2083746 , 0.44795197, 0.33874905],\n",
              "       [0.2083746 , 0.44795197, 0.33874905],\n",
              "       [0.2083746 , 0.44795197, 0.33874905],\n",
              "       [0.2083746 , 0.44795197, 0.33874905],\n",
              "       [0.2083746 , 0.44795197, 0.33874905],\n",
              "       [0.2083746 , 0.44795197, 0.33874905],\n",
              "       [0.2083746 , 0.44795197, 0.33874905],\n",
              "       [0.2083746 , 0.44795197, 0.33874905],\n",
              "       [0.2083746 , 0.44795197, 0.33874905],\n",
              "       [0.2083746 , 0.44795197, 0.33874905],\n",
              "       [0.2083746 , 0.44795197, 0.33874905],\n",
              "       [0.2083746 , 0.44795197, 0.33874905],\n",
              "       [0.2083746 , 0.44795197, 0.33874905],\n",
              "       [0.2083746 , 0.44795197, 0.33874905],\n",
              "       [0.2083746 , 0.44795197, 0.33874905],\n",
              "       [0.2083746 , 0.44795197, 0.33874905],\n",
              "       [0.2083746 , 0.44795197, 0.33874905],\n",
              "       [0.2083746 , 0.44795197, 0.33874905],\n",
              "       [0.2083746 , 0.44795197, 0.33874905],\n",
              "       [0.2083746 , 0.44795197, 0.33874905],\n",
              "       [0.2083746 , 0.44795197, 0.33874905],\n",
              "       [0.2083746 , 0.44795197, 0.33874905],\n",
              "       [0.2083746 , 0.44795197, 0.33874905],\n",
              "       [0.2083746 , 0.44795197, 0.33874905],\n",
              "       [0.2083746 , 0.44795197, 0.33874905],\n",
              "       [0.2083746 , 0.44795197, 0.33874905],\n",
              "       [0.2083746 , 0.44795197, 0.33874905],\n",
              "       [0.2083746 , 0.44795197, 0.33874905],\n",
              "       [0.2083746 , 0.44795197, 0.33874905],\n",
              "       [0.2083746 , 0.44795197, 0.33874905],\n",
              "       [0.2083746 , 0.44795197, 0.33874905],\n",
              "       [0.2083746 , 0.44795197, 0.33874905],\n",
              "       [0.2083746 , 0.44795197, 0.33874905],\n",
              "       [0.2083746 , 0.44795197, 0.33874905],\n",
              "       [0.2083746 , 0.44795197, 0.33874905],\n",
              "       [0.2083746 , 0.44795197, 0.33874905],\n",
              "       [0.2083746 , 0.44795197, 0.33874905],\n",
              "       [0.2083746 , 0.44795197, 0.33874905],\n",
              "       [0.2083746 , 0.44795197, 0.33874905],\n",
              "       [0.2083746 , 0.44795197, 0.33874905],\n",
              "       [0.2083746 , 0.44795197, 0.33874905],\n",
              "       [0.2083746 , 0.44795197, 0.33874905],\n",
              "       [0.2083746 , 0.44795197, 0.33874905],\n",
              "       [0.2083746 , 0.44795197, 0.33874905],\n",
              "       [0.2083746 , 0.44795197, 0.33874905],\n",
              "       [0.2083746 , 0.44795197, 0.33874905],\n",
              "       [0.2083746 , 0.44795197, 0.33874905],\n",
              "       [0.2083746 , 0.44795197, 0.33874905],\n",
              "       [0.2083746 , 0.44795197, 0.33874905],\n",
              "       [0.2083746 , 0.44795197, 0.33874905],\n",
              "       [0.2083746 , 0.44795197, 0.33874905],\n",
              "       [0.2083746 , 0.44795197, 0.33874905],\n",
              "       [0.2083746 , 0.44795197, 0.33874905],\n",
              "       [0.2083746 , 0.44795197, 0.33874905],\n",
              "       [0.2083746 , 0.44795197, 0.33874905],\n",
              "       [0.2083746 , 0.44795197, 0.33874905],\n",
              "       [0.2083746 , 0.44795197, 0.33874905],\n",
              "       [0.2083746 , 0.44795197, 0.33874905],\n",
              "       [0.2083746 , 0.44795197, 0.33874905],\n",
              "       [0.2083746 , 0.44795197, 0.33874905],\n",
              "       [0.2083746 , 0.44795197, 0.33874905],\n",
              "       [0.2083746 , 0.44795197, 0.33874905],\n",
              "       [0.2083746 , 0.44795197, 0.33874905],\n",
              "       [0.2083746 , 0.44795197, 0.33874905],\n",
              "       [0.2083746 , 0.44795197, 0.33874905],\n",
              "       [0.2083746 , 0.44795197, 0.33874905],\n",
              "       [0.2083746 , 0.44795197, 0.33874905],\n",
              "       [0.2083746 , 0.44795197, 0.33874905],\n",
              "       [0.2083746 , 0.44795197, 0.33874905],\n",
              "       [0.2083746 , 0.44795197, 0.33874905],\n",
              "       [0.2083746 , 0.44795197, 0.33874905],\n",
              "       [0.2083746 , 0.44795197, 0.33874905],\n",
              "       [0.2083746 , 0.44795197, 0.33874905],\n",
              "       [0.2083746 , 0.44795197, 0.33874905],\n",
              "       [0.2083746 , 0.44795197, 0.33874905],\n",
              "       [0.2083746 , 0.44795197, 0.33874905],\n",
              "       [0.2083746 , 0.44795197, 0.33874905],\n",
              "       [0.2083746 , 0.44795197, 0.33874905],\n",
              "       [0.2083746 , 0.44795197, 0.33874905],\n",
              "       [0.2083746 , 0.44795197, 0.33874905],\n",
              "       [0.2083746 , 0.44795197, 0.33874905],\n",
              "       [0.2083746 , 0.44795197, 0.33874905],\n",
              "       [0.2083746 , 0.44795197, 0.33874905],\n",
              "       [0.2083746 , 0.44795197, 0.33874905],\n",
              "       [0.2083746 , 0.44795197, 0.33874905],\n",
              "       [0.2083746 , 0.44795197, 0.33874905],\n",
              "       [0.2083746 , 0.44795197, 0.33874905],\n",
              "       [0.2083746 , 0.44795197, 0.33874905],\n",
              "       [0.2083746 , 0.44795197, 0.33874905],\n",
              "       [0.2083746 , 0.44795197, 0.33874905],\n",
              "       [0.2083746 , 0.44795197, 0.33874905],\n",
              "       [0.2083746 , 0.44795197, 0.33874905],\n",
              "       [0.2083746 , 0.44795197, 0.33874905],\n",
              "       [0.2083746 , 0.44795197, 0.33874905],\n",
              "       [0.2083746 , 0.44795197, 0.33874905],\n",
              "       [0.2083746 , 0.44795197, 0.33874905],\n",
              "       [0.2083746 , 0.44795197, 0.33874905],\n",
              "       [0.2083746 , 0.44795197, 0.33874905],\n",
              "       [0.2083746 , 0.44795197, 0.33874905],\n",
              "       [0.20837583, 0.44795182, 0.33874986],\n",
              "       [0.20837583, 0.44795182, 0.33874986],\n",
              "       [0.20837583, 0.44795182, 0.33874986],\n",
              "       [0.20837583, 0.44795182, 0.33874986],\n",
              "       [0.20837583, 0.44795182, 0.33874986],\n",
              "       [0.20837583, 0.44795182, 0.33874986],\n",
              "       [0.20837583, 0.44795182, 0.33874986],\n",
              "       [0.20837583, 0.44795182, 0.33874986]], dtype=float32)"
            ]
          },
          "metadata": {},
          "execution_count": 81
        }
      ]
    },
    {
      "cell_type": "code",
      "source": [],
      "metadata": {
        "id": "WhPsfMJ6DwcE"
      },
      "execution_count": null,
      "outputs": []
    }
  ]
}